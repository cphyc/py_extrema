{
 "cells": [
  {
   "cell_type": "code",
   "execution_count": 211,
   "metadata": {},
   "outputs": [],
   "source": [
    "import numpy as np\n",
    "import matplotlib.pyplot as plt\n",
    "%matplotlib inline"
   ]
  },
  {
   "cell_type": "code",
   "execution_count": 306,
   "metadata": {},
   "outputs": [],
   "source": [
    "# M = np.random.rand(3, 3, 3)\n",
    "# M -= M[1, 1, 1]\n",
    "M = np.fromfunction(lambda i, j, k: np.exp(-(i-1.1)**2) + np.exp(-(j-1)**2) +(-np.exp(-(k-1)**2)), (3, 3, 3))\n",
    "M -= M[1, 1, 1]"
   ]
  },
  {
   "cell_type": "code",
   "execution_count": 307,
   "metadata": {},
   "outputs": [
    {
     "data": {
      "text/plain": [
       "<matplotlib.colorbar.Colorbar at 0x7f8016bb76d8>"
      ]
     },
     "execution_count": 307,
     "metadata": {},
     "output_type": "execute_result"
    },
    {
     "data": {
      "image/png": "[encoded data removed]",
      "text/plain": [
       "<Figure size 432x288 with 2 Axes>"
      ]
     },
     "metadata": {},
     "output_type": "display_data"
    }
   ],
   "source": [
    "plt.imshow(M[:, 1], vmin=-1, vmax=1, cmap='seismic')\n",
    "plt.colorbar()"
   ]
  },
  {
   "cell_type": "markdown",
   "metadata": {},
   "source": [
    "We will try to create a 2nd order polynomial to fit M\n",
    "$$\n",
    "P(x, y, z) = \\sum_{0 \\leq i+j+k\\leq 2} a_{i,j,k}x^iy^jz^k\n",
    "$$"
   ]
  },
  {
   "cell_type": "code",
   "execution_count": 308,
   "metadata": {},
   "outputs": [],
   "source": [
    "xx = [-1, 0, 1]\n",
    "X, Y, Z = np.meshgrid(xx, xx, xx, indexing='ij')\n",
    "X2 = X**2\n",
    "Y2 = Y**2\n",
    "Z2 = Z**2"
   ]
  },
  {
   "cell_type": "markdown",
   "metadata": {},
   "source": [
    "Let's not $A$ the array of the 9 coefficients (we skip the constant value as it is equal to the central value of $M$) and $B$ be the coefficients of the gradient of $P$."
   ]
  },
  {
   "cell_type": "markdown",
   "metadata": {},
   "source": [
    "We want the polynomial to fit the value of $M$ at the 6 faces of the central value. Let\n",
    "$$\n",
    "X = (x^2, y^2, z^2, xy, xz, yz, x, y, z)^\\text{T},\n",
    "$$\n",
    "$$ A = (a_{xx}, a_{yy}, a_{zz}, a_{xy}, a_{xz}, a_{yz}, a_{x}, a_y, a_z).$$\n",
    "\n",
    "Let's number the indices of the 6 direct neighbors of the center cell and call $M'$ the value of $M$ in these cells ($M$ has shape `(6,)`).\n",
    "Let's write $M_h = \\nabla_i\\nabla_j M$ with $i<j$ _at the center cell_."
   ]
  },
  {
   "cell_type": "markdown",
   "metadata": {},
   "source": [
    "Let\n",
    "$$\n",
    "\\left\\{\\begin{matrix}\n",
    "XX_I = (X_I, 1_7, 1_{8}, 1_{9}), \\\\\n",
    "MM = (M_I, M_h).\n",
    "\\end{matrix}\\right.\n",
    "$$\n",
    "Here we have used ${}_I$ to denote the index of the $i$-th direct neighbor cell. $A$ has shape $(9,)$, $XX$ $(9, 9)$ and $MM$ $(9, )$. We have also used the notation $1_i$ for an empty vector of size $9$ with the $i$-th value set to $1$.\n",
    "\n",
    "Solving for the polynomical is the same as solving the linear problem\n",
    "$$\n",
    "AA\\cdot XX = MM.\n",
    "$$"
   ]
  },
  {
   "cell_type": "code",
   "execution_count": 310,
   "metadata": {},
   "outputs": [],
   "source": [
    "indexes = np.zeros((6, 3), dtype=int)\n",
    "l = 0\n",
    "for i in [-1, 0, 1]:\n",
    "    for j in [-1, 0, 1]:\n",
    "        for k in [-1, 0, 1]:\n",
    "            tmp = np.array([i, j, k])\n",
    "            # Only keep direct neighbors\n",
    "            if (tmp == 0).sum() == 2:\n",
    "                indexes[l, :] = tmp\n",
    "                l += 1"
   ]
  },
  {
   "cell_type": "markdown",
   "metadata": {},
   "source": [
    "Building $MM$"
   ]
  },
  {
   "cell_type": "code",
   "execution_count": 311,
   "metadata": {},
   "outputs": [],
   "source": [
    "import itertools\n",
    "MM = np.empty(9)\n",
    "MM[:6] = M[I, J, K]\n",
    "Mh = np.zeros(3)\n",
    "for l, (i, j) in enumerate(itertools.combinations(range(3), 2)):\n",
    "    Mh[l] = np.diff(np.diff(M, axis=j), axis=i).mean()\n",
    "    \n",
    "MM[6:] = Mh"
   ]
  },
  {
   "cell_type": "code",
   "execution_count": 312,
   "metadata": {},
   "outputs": [
    {
     "data": {
      "text/plain": [
       "array([-0.54519177, -0.69185255, -0.69185255, -1.32397311, -0.059732  ,\n",
       "        0.        ,  0.        ,  0.        ,  0.        ])"
      ]
     },
     "execution_count": 312,
     "metadata": {},
     "output_type": "execute_result"
    }
   ],
   "source": [
    "MM"
   ]
  },
  {
   "cell_type": "markdown",
   "metadata": {},
   "source": [
    "Building $XX$"
   ]
  },
  {
   "cell_type": "code",
   "execution_count": 313,
   "metadata": {},
   "outputs": [],
   "source": [
    "XX = np.zeros((9, 9))\n",
    "XX[:, :6] = np.array([X2[I, J, K], Y2[I, J, K], Z2[I, J, K],\n",
    "                      X[I, J, K], Y[I, J, K], Z[I, J, K],\n",
    "                      (X*Y)[I, J, K], (X*Z)[I, J, K], (Y*Z)[I, J, K]])\n",
    "for i in range(6, 9):\n",
    "    XX[i, i] = 1"
   ]
  },
  {
   "cell_type": "code",
   "execution_count": 354,
   "metadata": {},
   "outputs": [
    {
     "data": {
      "text/plain": [
       "array([[ 1.,  1.,  1.,  1.,  1.,  0.,  0.,  0.,  0.],\n",
       "       [ 1.,  1.,  1.,  1.,  0.,  1.,  0.,  0.,  0.],\n",
       "       [ 1.,  1.,  1.,  0.,  1.,  1.,  0.,  0.,  0.],\n",
       "       [ 1., -1., -1., -1., -1.,  0.,  0.,  0.,  0.],\n",
       "       [-1.,  1., -1., -1.,  0., -1.,  0.,  0.,  0.],\n",
       "       [-1., -1.,  1.,  0., -1., -1.,  0.,  0.,  0.],\n",
       "       [-1., -1.,  1.,  1.,  0.,  0.,  1.,  0.,  0.],\n",
       "       [-1.,  1., -1.,  0.,  1.,  0.,  0.,  1.,  0.],\n",
       "       [ 1., -1., -1.,  0.,  0.,  1.,  0.,  0.,  1.]])"
      ]
     },
     "execution_count": 354,
     "metadata": {},
     "output_type": "execute_result"
    }
   ],
   "source": [
    "XX"
   ]
  },
  {
   "cell_type": "code",
   "execution_count": 356,
   "metadata": {},
   "outputs": [
    {
     "data": {
      "text/plain": [
       "(array([-1,  0,  0,  0,  0,  1]),\n",
       " array([ 0, -1,  0,  0,  1,  0]),\n",
       " array([ 0,  0, -1,  1,  0,  0]))"
      ]
     },
     "execution_count": 356,
     "metadata": {},
     "output_type": "execute_result"
    }
   ],
   "source": [
    "I, J, K"
   ]
  },
  {
   "cell_type": "code",
   "execution_count": 355,
   "metadata": {},
   "outputs": [
    {
     "name": "stdout",
     "output_type": "stream",
     "text": [
      "[[ 1.  1.  1.  1.  1.  0.  0.  0.  0.]\n",
      " [ 1.  1.  1.  1.  0.  1.  0.  0.  0.]\n",
      " [ 1.  1.  1.  0.  1.  1.  0.  0.  0.]\n",
      " [ 1. -1. -1. -1. -1.  0.  0.  0.  0.]\n",
      " [-1.  1. -1. -1.  0. -1.  0.  0.  0.]\n",
      " [-1. -1.  1.  0. -1. -1.  0.  0.  0.]\n",
      " [-1. -1.  1.  1. -0. -0.  1.  0.  0.]\n",
      " [-0. -0.  0.  0. -0. -0.  0.  1.  0.]\n",
      " [ 1. -1. -1. -0. -0.  1.  0.  0.  1.]]\n"
     ]
    }
   ],
   "source": [
    "print('''[[ 1.  1.  1.  1.  1.  0.  0.  0.  0.]\n",
    " [ 1.  1.  1.  1.  0.  1.  0.  0.  0.]\n",
    " [ 1.  1.  1.  0.  1.  1.  0.  0.  0.]\n",
    " [ 1. -1. -1. -1. -1.  0.  0.  0.  0.]\n",
    " [-1.  1. -1. -1.  0. -1.  0.  0.  0.]\n",
    " [-1. -1.  1.  0. -1. -1.  0.  0.  0.]\n",
    " [-1. -1.  1.  1. -0. -0.  1.  0.  0.]\n",
    " [-0. -0.  0.  0. -0. -0.  0.  1.  0.]\n",
    " [ 1. -1. -1. -0. -0.  1.  0.  0.  1.]]''')\n"
   ]
  },
  {
   "cell_type": "code",
   "execution_count": 331,
   "metadata": {},
   "outputs": [],
   "source": [
    "A = np.linalg.solve(XX.T, MM)"
   ]
  },
  {
   "cell_type": "code",
   "execution_count": 332,
   "metadata": {},
   "outputs": [
    {
     "data": {
      "text/plain": [
       "array([-0.61852216, -0.63212056,  0.63212056,  0.07333039,  0.        ,\n",
       "        0.        ,  0.        ,  0.        ,  0.        ])"
      ]
     },
     "execution_count": 332,
     "metadata": {},
     "output_type": "execute_result"
    }
   ],
   "source": [
    "A"
   ]
  },
  {
   "cell_type": "code",
   "execution_count": 340,
   "metadata": {},
   "outputs": [
    {
     "data": {
      "text/plain": [
       "array([-0.61852216, -0.63212056,  0.63212056,  0.07333039,  0.        ,\n",
       "        0.        ,  0.        ,  0.        ,  0.        ])"
      ]
     },
     "execution_count": 340,
     "metadata": {},
     "output_type": "execute_result"
    }
   ],
   "source": [
    "MM @ np.linalg.inv(XX)"
   ]
  },
  {
   "cell_type": "code",
   "execution_count": 316,
   "metadata": {},
   "outputs": [
    {
     "data": {
      "text/plain": [
       "True"
      ]
     },
     "execution_count": 316,
     "metadata": {},
     "output_type": "execute_result"
    }
   ],
   "source": [
    "np.allclose((A @ XX)[:-3], M[I, J, K])"
   ]
  },
  {
   "cell_type": "markdown",
   "metadata": {},
   "source": [
    "We now have the coefficients of the polynomial $P$. The coefficients of its derivative are\n",
    "$$\n",
    "\\frac{\\partial P}{\\partial x}(x, y, z) = \\sum_{0\\leq i+j+k\\leq 2} i\\ a_{i,j,k} x^{i-1}y^jz^k.\n",
    "$$\n",
    "Imposing a zero gradient then yields\n",
    "$$\n",
    "\\left\\{\\begin{matrix}\n",
    "2\\ a_{200} x + a_{110}y + a_{101}z + a_{100} &= 0\\\\\n",
    "2\\ a_{020} y + a_{110}x + a_{011}z + a_{010} &= 0\\\\\n",
    "2\\ a_{002} z + a_{101}x + a_{011}y + a_{001} &= 0\n",
    "\\end{matrix}\\right.\n",
    "$$\n",
    "which is the same as solving\n",
    "$$\n",
    "AA\\cdot X = -(a_{100}, a_{010}, a_{001})^\\text{T},\n",
    "$$\n",
    "with\n",
    "$$\n",
    "AA = \\left(\\begin{matrix}\n",
    "2a_{200} & a_{110} & a_{101} \\\\\n",
    "a_{110} & 2a_{020} & a_{011} \\\\\n",
    "a_{101} & a_{011} & 2a_{002}\n",
    "\\end{matrix}\\right)\n",
    "$$"
   ]
  },
  {
   "cell_type": "code",
   "execution_count": 319,
   "metadata": {},
   "outputs": [],
   "source": [
    "AA_order = np.array([[0, 6, 7],\n",
    "                     [6, 1, 8],\n",
    "                     [7, 8, 2]])\n",
    "AA_factor = np.array([[2, 1, 1],\n",
    "                      [1, 2, 1],\n",
    "                      [1, 1, 2]])\n",
    "AA = A[AA_order.flatten()].reshape(3, 3) * AA_factor\n",
    "rhs = -A[[3, 4, 5]].T\n",
    "AAinv = np.linalg.inv(AA)"
   ]
  },
  {
   "cell_type": "markdown",
   "metadata": {},
   "source": [
    "It is easy to show that (this is exact for a polynomial of degree 2)\n",
    "$$\n",
    "\\nabla P = \\Delta X \\nabla\\nabla P,\n",
    "$$\n",
    "so\n",
    "$$\n",
    "\\Delta X = \\left.\\nabla P\\right|_0 \\left(\\nabla\\nabla P|_0\\right)^{-1}\n",
    "$$"
   ]
  },
  {
   "cell_type": "code",
   "execution_count": 328,
   "metadata": {},
   "outputs": [],
   "source": [
    "xyz = AAinv @ rhs"
   ]
  },
  {
   "cell_type": "code",
   "execution_count": 329,
   "metadata": {},
   "outputs": [
    {
     "data": {
      "text/plain": [
       "array([0.05927871, 0.        , 0.        ])"
      ]
     },
     "execution_count": 329,
     "metadata": {},
     "output_type": "execute_result"
    }
   ],
   "source": [
    "xyz"
   ]
  },
  {
   "cell_type": "markdown",
   "metadata": {},
   "source": [
    "We now have the point where the gradient is null, the hessian matrix is actually $AA$!"
   ]
  },
  {
   "cell_type": "code",
   "execution_count": 330,
   "metadata": {},
   "outputs": [
    {
     "data": {
      "text/plain": [
       "array([-1.26424112, -1.23704432,  1.26424112])"
      ]
     },
     "execution_count": 330,
     "metadata": {},
     "output_type": "execute_result"
    }
   ],
   "source": [
    "eigvals = np.linalg.eigvalsh(AA)\n",
    "eigvals"
   ]
  },
  {
   "cell_type": "code",
   "execution_count": null,
   "metadata": {},
   "outputs": [],
   "source": []
  }
 ],
 "metadata": {
  "kernelspec": {
   "display_name": "astro",
   "language": "python",
   "name": "astro"
  },
  "language_info": {
   "codemirror_mode": {
    "name": "ipython",
    "version": 3
   },
   "file_extension": ".py",
   "mimetype": "text/x-python",
   "name": "python",
   "nbconvert_exporter": "python",
   "pygments_lexer": "ipython3",
   "version": "3.6.4"
  }
 },
 "nbformat": 4,
 "nbformat_minor": 2
}
